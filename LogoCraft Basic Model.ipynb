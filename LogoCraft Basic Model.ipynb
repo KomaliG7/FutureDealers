{
  "nbformat": 4,
  "nbformat_minor": 0,
  "metadata": {
    "colab": {
      "provenance": []
    },
    "kernelspec": {
      "name": "python3",
      "display_name": "Python 3"
    },
    "language_info": {
      "name": "python"
    }
  },
  "cells": [
    {
      "cell_type": "code",
      "execution_count": null,
      "metadata": {
        "id": "djdjW_3sfPUc"
      },
      "outputs": [],
      "source": [
        "import torch\n",
        "from diffusers import StableDiffusionPipeline\n",
        "from PIL import Image\n",
        "from IPython.display import Image as IPImage, display\n",
        "\n",
        "# Make sure to install necessary libraries\n",
        "# !pip install torch diffusers pillow\n",
        "\n",
        "# Load pre-trained Stable Diffusion model\n",
        "model_id = \"stabilityai/stable-diffusion-2\"\n",
        "pipe = StableDiffusionPipeline.from_pretrained(model_id, torch_dtype=torch.float16)\n",
        "pipe = pipe.to(\"cuda\")  # Use GPU for faster processing\n",
        "\n",
        "def generate_logo(prompt, num_images=4, guidance_scale=7.5, steps=50):\n",
        "    \"\"\"\n",
        "    Generate logos based on user-provided description.\n",
        "\n",
        "    :param prompt: Text description of the logo (e.g., \"modern tech startup with sustainability and innovation\").\n",
        "    :param num_images: Number of logo options to generate.\n",
        "    :param guidance_scale: Controls how closely the output follows the input prompt.\n",
        "    :param steps: Number of diffusion steps (higher = more detailed output).\n",
        "    :return: List of generated logo images.\n",
        "    \"\"\"\n",
        "    with torch.autocast(\"cuda\"):\n",
        "        images = pipe(\n",
        "            [prompt] * num_images,\n",
        "            guidance_scale=guidance_scale,\n",
        "            num_inference_steps=steps\n",
        "        ).images\n",
        "\n",
        "    return images\n",
        "\n",
        "# Example usage with multiple inputs\n",
        "if __name__ == \"__main__\":\n",
        "    prompts = [\n",
        "        \"A Realestate business with modern tools\"\n",
        "    ]\n",
        "\n",
        "    for user_prompt in prompts:\n",
        "        logos = generate_logo(user_prompt, num_images=4)\n",
        "        print(f\"Logos for prompt: '{user_prompt}'\")\n",
        "\n",
        "        # Save and display generated logos\n",
        "        for i, logo in enumerate(logos):\n",
        "            logo_file = f\"logo_{user_prompt.replace(' ', '_')}_{i+1}.png\"\n",
        "            logo.save(logo_file)\n",
        "            display(IPImage(filename=logo_file))  # Display the image in Colab\n",
        "\n",
        "        print(\"Logos generated successfully!\")\n"
      ]
    }
  ]
}
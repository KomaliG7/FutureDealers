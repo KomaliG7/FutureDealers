{
  "nbformat": 4,
  "nbformat_minor": 0,
  "metadata": {
    "colab": {
      "provenance": []
    },
    "kernelspec": {
      "name": "python3",
      "display_name": "Python 3"
    },
    "language_info": {
      "name": "python"
    }
  },
  "cells": [
    {
      "cell_type": "code",
      "execution_count": null,
      "metadata": {
        "id": "fUraqRBMfyAa"
      },
      "outputs": [],
      "source": [
        "import torch\n",
        "from diffusers import StableDiffusionXLPipeline\n",
        "from PIL import Image\n",
        "\n",
        "# Load the public Stable Diffusion XL model with a fast tokenizer\n",
        "model_id = \"stabilityai/stable-diffusion-xl-base-1.0\"\n",
        "pipe = StableDiffusionXLPipeline.from_pretrained(\n",
        "    model_id,\n",
        "    torch_dtype=torch.float16,\n",
        "    use_fast_tokenizer=True  # Enable fast tokenizer\n",
        ")\n",
        "\n",
        "# Move the pipeline to GPU (if available)\n",
        "pipe = pipe.to(\"cuda\")\n",
        "\n",
        "def generate_logo(prompt, num_images=4, guidance_scale=7.5, steps=50):\n",
        "    \"\"\"\n",
        "    Generate professional logos based on user-provided description.\n",
        "    :param prompt: Text description of the logo (e.g., \"modern tech startup with sustainability and innovation\").\n",
        "    :param num_images: Number of logo options to generate.\n",
        "    :param guidance_scale: Controls how closely the output follows the input prompt.\n",
        "    :param steps: Number of diffusion steps (higher = more detailed output).\n",
        "    :return: List of generated logo images.\n",
        "    \"\"\"\n",
        "    with torch.autocast(\"cuda\"):\n",
        "        images = pipe(\n",
        "            [prompt] * num_images,\n",
        "            guidance_scale=guidance_scale,\n",
        "            num_inference_steps=steps\n",
        "        ).images\n",
        "    return images\n",
        "\n",
        "# Example usage\n",
        "if __name__ == \"__main__\":\n",
        "    user_prompt = (\n",
        "        \"A modern tech startup logo with a focus on sustainability and innovation, \"\n",
        "        \"professional, high-quality, unique design\"\n",
        "    )\n",
        "    logos = generate_logo(user_prompt, num_images=4)\n",
        "\n",
        "    # Save generated logos\n",
        "    for i, logo in enumerate(logos):\n",
        "        logo.save(f\"professional_logo_{i+1}.png\")\n",
        "    print(\"Professional logos generated successfully!\")"
      ]
    }
  ]
}